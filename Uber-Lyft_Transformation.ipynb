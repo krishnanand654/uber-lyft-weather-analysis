{
 "cells": [
  {
   "cell_type": "code",
   "execution_count": null,
   "metadata": {
    "application/vnd.databricks.v1+cell": {
     "cellMetadata": {
      "byteLimit": 2048000,
      "rowLimit": 10000
     },
     "inputWidgets": {},
     "nuid": "35734b02-3ba5-4733-bca5-680e1b0bde9f",
     "showTitle": false,
     "title": ""
    }
   },
   "outputs": [
    {
     "data": {
      "text/html": [
       "\n",
       "        <div>\n",
       "            <p><b>SparkContext</b></p>\n",
       "\n",
       "            <p><a href=\"/?o=3743673436681715#setting/sparkui/1003-173826-55zh8xws/driver-6499662478782310345\">Spark UI</a></p>\n",
       "\n",
       "            <dl>\n",
       "              <dt>Version</dt>\n",
       "                <dd><code>v3.3.2</code></dd>\n",
       "              <dt>Master</dt>\n",
       "                <dd><code>local[8]</code></dd>\n",
       "              <dt>AppName</dt>\n",
       "                <dd><code>Databricks Shell</code></dd>\n",
       "            </dl>\n",
       "        </div>\n",
       "        "
      ]
     },
     "metadata": {
      "application/vnd.databricks.v1+output": {
       "addedWidgets": {},
       "arguments": {},
       "data": "\n        <div>\n            <p><b>SparkContext</b></p>\n\n            <p><a href=\"/?o=3743673436681715#setting/sparkui/1003-173826-55zh8xws/driver-6499662478782310345\">Spark UI</a></p>\n\n            <dl>\n              <dt>Version</dt>\n                <dd><code>v3.3.2</code></dd>\n              <dt>Master</dt>\n                <dd><code>local[8]</code></dd>\n              <dt>AppName</dt>\n                <dd><code>Databricks Shell</code></dd>\n            </dl>\n        </div>\n        ",
       "datasetInfos": [],
       "metadata": {},
       "removedWidgets": [],
       "textData": null,
       "type": "htmlSandbox"
      }
     },
     "output_type": "display_data"
    }
   ],
   "source": [
    "sc"
   ]
  },
  {
   "cell_type": "code",
   "execution_count": null,
   "metadata": {
    "application/vnd.databricks.v1+cell": {
     "cellMetadata": {
      "byteLimit": 2048000,
      "rowLimit": 10000
     },
     "inputWidgets": {},
     "nuid": "7b4137f3-afcd-4a8e-b2c1-66946fe11ed2",
     "showTitle": false,
     "title": ""
    }
   },
   "outputs": [
    {
     "name": "stdout",
     "output_type": "stream",
     "text": [
      "Python interpreter will be restarted.\n",
      "Collecting geopy\n",
      "  Downloading geopy-2.4.1-py3-none-any.whl (125 kB)\n",
      "Collecting geographiclib<3,>=1.52\n",
      "  Downloading geographiclib-2.0-py3-none-any.whl (40 kB)\n",
      "Installing collected packages: geographiclib, geopy\n",
      "Successfully installed geographiclib-2.0 geopy-2.4.1\n",
      "Python interpreter will be restarted.\n"
     ]
    }
   ],
   "source": [
    "%pip install geopy"
   ]
  },
  {
   "cell_type": "markdown",
   "metadata": {
    "application/vnd.databricks.v1+cell": {
     "cellMetadata": {
      "byteLimit": 2048000,
      "rowLimit": 10000
     },
     "inputWidgets": {},
     "nuid": "4af5ab54-5284-4a4e-94c0-08f5b7c1d888",
     "showTitle": false,
     "title": ""
    }
   },
   "source": [
    "## Transformation Phase\n",
    "1. Finding and Handling Missing Values\n",
    "2. Convert TimeStamp from String to datetime\n",
    "3. Create Merge_date field for merging the data based on source and timeStamp\n",
    "5. Create new column with dollar per mile for each cab\n",
    "4. Drop Duplicates in weather data\n",
    "5. Join Cabs and Weather Data based on merge_date\n",
    "\n",
    "\n"
   ]
  },
  {
   "cell_type": "code",
   "execution_count": null,
   "metadata": {
    "application/vnd.databricks.v1+cell": {
     "cellMetadata": {
      "byteLimit": 2048000,
      "rowLimit": 10000
     },
     "inputWidgets": {},
     "nuid": "41705dbb-ce81-4d33-ab0f-1e9b2ee5afcf",
     "showTitle": false,
     "title": ""
    }
   },
   "outputs": [],
   "source": [
    "from pyspark.sql.types import *\n",
    "from pyspark.sql.functions import *"
   ]
  },
  {
   "cell_type": "code",
   "execution_count": null,
   "metadata": {
    "application/vnd.databricks.v1+cell": {
     "cellMetadata": {
      "byteLimit": 2048000,
      "rowLimit": 10000
     },
     "inputWidgets": {},
     "nuid": "cba35d3d-23a9-4b76-813f-92643ad30a5d",
     "showTitle": false,
     "title": ""
    }
   },
   "outputs": [],
   "source": [
    "cabs_df = spark.read.format(\"cosmos.oltp\") \\\n",
    "    .option(\"spark.cosmos.accountEndpoint\", \"xxxxxxxxxxxxxxxxxxx\") \\\n",
    "    .option(\"spark.cosmos.accountKey\", \"xxxxxxxxxxxxxxxxxxxxxxxxxxxxxx\") \\\n",
    "    .option(\"spark.cosmos.database\", \"cabsDB\") \\\n",
    "    .option(\"spark.cosmos.container\", \"cabs_data_backup\") \\\n",
    "    .load()"
   ]
  },
  {
   "cell_type": "code",
   "execution_count": null,
   "metadata": {
    "application/vnd.databricks.v1+cell": {
     "cellMetadata": {
      "byteLimit": 2048000,
      "rowLimit": 10000
     },
     "inputWidgets": {},
     "nuid": "a5cae2bc-736c-407d-8a07-ac3e5f03dddf",
     "showTitle": false,
     "title": ""
    }
   },
   "outputs": [
    {
     "name": "stdout",
     "output_type": "stream",
     "text": [
      "Out[3]: DataFrame[name: string, cab_type: string, time_stamp: string, source: string, price: string, id: string, product_id: string, surge_multiplier: string, destination: string, distance: string]"
     ]
    }
   ],
   "source": [
    "cabs_df.repartition(col('source'))"
   ]
  },
  {
   "cell_type": "code",
   "execution_count": null,
   "metadata": {
    "application/vnd.databricks.v1+cell": {
     "cellMetadata": {
      "byteLimit": 2048000,
      "rowLimit": 10000
     },
     "inputWidgets": {},
     "nuid": "8c6d4021-811b-4a79-bdcc-359533e8c30a",
     "showTitle": false,
     "title": ""
    }
   },
   "outputs": [],
   "source": [
    "    cabs_df = cabs_df.cache()"
   ]
  },
  {
   "cell_type": "code",
   "execution_count": null,
   "metadata": {
    "application/vnd.databricks.v1+cell": {
     "cellMetadata": {
      "byteLimit": 2048000,
      "rowLimit": 10000
     },
     "inputWidgets": {},
     "nuid": "40bfc93d-006b-4b06-85c7-3bbbdbc53946",
     "showTitle": false,
     "title": ""
    }
   },
   "outputs": [
    {
     "name": "stdout",
     "output_type": "stream",
     "text": [
      "root\n",
      " |-- name: string (nullable = true)\n",
      " |-- cab_type: string (nullable = true)\n",
      " |-- time_stamp: string (nullable = true)\n",
      " |-- source: string (nullable = true)\n",
      " |-- price: string (nullable = true)\n",
      " |-- id: string (nullable = false)\n",
      " |-- product_id: string (nullable = true)\n",
      " |-- surge_multiplier: string (nullable = true)\n",
      " |-- destination: string (nullable = true)\n",
      " |-- distance: string (nullable = true)\n",
      "\n"
     ]
    }
   ],
   "source": [
    "cabs_df.printSchema()"
   ]
  },
  {
   "cell_type": "code",
   "execution_count": null,
   "metadata": {
    "application/vnd.databricks.v1+cell": {
     "cellMetadata": {
      "byteLimit": 2048000,
      "rowLimit": 10000
     },
     "inputWidgets": {},
     "nuid": "da9746bb-25cd-4de9-a480-22b4ebd1eb68",
     "showTitle": false,
     "title": ""
    }
   },
   "outputs": [],
   "source": [
    "cabs_schema = StructType([\n",
    "    StructField(\"distance\", DoubleType(), nullable=True),\n",
    "    StructField(\"cab_type\", StringType(), nullable=True),\n",
    "    StructField(\"time_stamp\", DoubleType(), nullable=True),\n",
    "    StructField(\"destination\", StringType(), nullable=True),\n",
    "    StructField(\"source\", StringType(), nullable=True),\n",
    "    StructField(\"price\", DoubleType(), nullable=True),\n",
    "    StructField(\"surge_multiplier\", DoubleType(), nullable=True),\n",
    "    StructField(\"id\", StringType(), nullable=True),\n",
    "    StructField(\"product_id\", StringType(), nullable=True),\n",
    "    StructField(\"name\", StringType(), nullable=True)\n",
    "])\n",
    "\n",
    "cabs_df = cabs_df.select(\n",
    "    [col(field.name).cast(field.dataType) for field in cabs_schema.fields]\n",
    ")"
   ]
  },
  {
   "cell_type": "code",
   "execution_count": null,
   "metadata": {
    "application/vnd.databricks.v1+cell": {
     "cellMetadata": {
      "byteLimit": 2048000,
      "rowLimit": 10000
     },
     "inputWidgets": {},
     "nuid": "229f7ea1-bd49-483c-9e05-fe658882a277",
     "showTitle": false,
     "title": ""
    }
   },
   "outputs": [],
   "source": [
    "cabs_df = cabs_df.cache()"
   ]
  },
  {
   "cell_type": "code",
   "execution_count": null,
   "metadata": {
    "application/vnd.databricks.v1+cell": {
     "cellMetadata": {
      "byteLimit": 2048000,
      "rowLimit": 10000
     },
     "inputWidgets": {},
     "nuid": "2eea0f33-fed6-48f5-bbfb-41e3fc2dbed1",
     "showTitle": false,
     "title": ""
    }
   },
   "outputs": [
    {
     "name": "stdout",
     "output_type": "stream",
     "text": [
      "root\n",
      " |-- distance: double (nullable = true)\n",
      " |-- cab_type: string (nullable = true)\n",
      " |-- time_stamp: double (nullable = true)\n",
      " |-- destination: string (nullable = true)\n",
      " |-- source: string (nullable = true)\n",
      " |-- price: double (nullable = true)\n",
      " |-- surge_multiplier: double (nullable = true)\n",
      " |-- id: string (nullable = false)\n",
      " |-- product_id: string (nullable = true)\n",
      " |-- name: string (nullable = true)\n",
      "\n"
     ]
    }
   ],
   "source": [
    "cabs_df.printSchema()"
   ]
  },
  {
   "cell_type": "code",
   "execution_count": null,
   "metadata": {
    "application/vnd.databricks.v1+cell": {
     "cellMetadata": {
      "byteLimit": 2048000,
      "rowLimit": 10000
     },
     "inputWidgets": {},
     "nuid": "7efa51e3-cb19-4ff9-8dc2-5069a75e83c4",
     "showTitle": false,
     "title": ""
    }
   },
   "outputs": [],
   "source": [
    "weather_df = spark.read.format(\"cosmos.oltp\") \\\n",
    "    .option(\"spark.cosmos.accountEndpoint\", \"https://azcosmodbtask.documents.azure.com:443/\") \\\n",
    "    .option(\"spark.cosmos.accountKey\", \"sdvloiD1P9uL4g4YDrCYV74cXZ5hfKSNPfEvcIBWnM3N90w8ZNATyc44mi6nGk86gzUiKodsjrm8ACDbGiojJQ==\") \\\n",
    "    .option(\"spark.cosmos.database\", \"cabsDB\") \\\n",
    "    .option(\"spark.cosmos.container\", \"weather\") \\\n",
    "    .load()"
   ]
  },
  {
   "cell_type": "code",
   "execution_count": null,
   "metadata": {
    "application/vnd.databricks.v1+cell": {
     "cellMetadata": {
      "byteLimit": 2048000,
      "rowLimit": 10000
     },
     "inputWidgets": {},
     "nuid": "0fbe36bd-4214-4604-a598-2b3373c8b6d5",
     "showTitle": false,
     "title": ""
    }
   },
   "outputs": [],
   "source": [
    "new_schema = StructType([\n",
    "    StructField(\"temp\", DoubleType(), nullable=True),\n",
    "    StructField(\"location\", StringType(), nullable=True),\n",
    "    StructField(\"clouds\", DoubleType(), nullable=True),\n",
    "    StructField(\"pressure\", DoubleType(), nullable=True),\n",
    "    StructField(\"rain\", DoubleType(), nullable=True),\n",
    "    StructField(\"time_stamp\", IntegerType(), nullable=True),\n",
    "    StructField(\"humidity\", DoubleType(), nullable=True),\n",
    "    StructField(\"wind\", DoubleType(), nullable=True)\n",
    "])\n",
    "\n",
    "weather_df = weather_df.select(\n",
    "    [col(field.name).cast(field.dataType) for field in new_schema.fields]\n",
    ")"
   ]
  },
  {
   "cell_type": "code",
   "execution_count": null,
   "metadata": {
    "application/vnd.databricks.v1+cell": {
     "cellMetadata": {
      "byteLimit": 2048000,
      "rowLimit": 10000
     },
     "inputWidgets": {},
     "nuid": "8c8f4736-55a7-46ae-a2e4-db50385dafbc",
     "showTitle": false,
     "title": ""
    }
   },
   "outputs": [
    {
     "name": "stdout",
     "output_type": "stream",
     "text": [
      "root\n",
      " |-- temp: double (nullable = true)\n",
      " |-- location: string (nullable = true)\n",
      " |-- clouds: double (nullable = true)\n",
      " |-- pressure: double (nullable = true)\n",
      " |-- rain: double (nullable = true)\n",
      " |-- time_stamp: integer (nullable = true)\n",
      " |-- humidity: double (nullable = true)\n",
      " |-- wind: double (nullable = true)\n",
      "\n"
     ]
    }
   ],
   "source": [
    "weather_df = weather_df.cache()\n",
    "weather_df.printSchema()"
   ]
  },
  {
   "cell_type": "markdown",
   "metadata": {
    "application/vnd.databricks.v1+cell": {
     "cellMetadata": {
      "byteLimit": 2048000,
      "rowLimit": 10000
     },
     "inputWidgets": {},
     "nuid": "f7f2c0c6-3b75-48d5-be45-ff7218356f80",
     "showTitle": false,
     "title": ""
    }
   },
   "source": [
    "# Shape of data"
   ]
  },
  {
   "cell_type": "code",
   "execution_count": null,
   "metadata": {
    "application/vnd.databricks.v1+cell": {
     "cellMetadata": {
      "byteLimit": 2048000,
      "rowLimit": 10000
     },
     "inputWidgets": {},
     "nuid": "de9199b3-ea8f-4f38-8403-f0927f8bf1ec",
     "showTitle": false,
     "title": ""
    }
   },
   "outputs": [
    {
     "name": "stdout",
     "output_type": "stream",
     "text": [
      "Out[15]: 693071"
     ]
    }
   ],
   "source": [
    "cabs_df.count()"
   ]
  },
  {
   "cell_type": "code",
   "execution_count": null,
   "metadata": {
    "application/vnd.databricks.v1+cell": {
     "cellMetadata": {
      "byteLimit": 2048000,
      "rowLimit": 10000
     },
     "inputWidgets": {},
     "nuid": "41d38bef-9218-4e6f-91f6-07666f69a3c0",
     "showTitle": false,
     "title": ""
    }
   },
   "outputs": [
    {
     "name": "stdout",
     "output_type": "stream",
     "text": [
      "Out[16]: 10"
     ]
    }
   ],
   "source": [
    "len(cabs_df.columns)"
   ]
  },
  {
   "cell_type": "code",
   "execution_count": null,
   "metadata": {
    "application/vnd.databricks.v1+cell": {
     "cellMetadata": {
      "byteLimit": 2048000,
      "rowLimit": 10000
     },
     "inputWidgets": {},
     "nuid": "566a99cc-d954-4e59-a234-381e02d3d87c",
     "showTitle": false,
     "title": ""
    }
   },
   "outputs": [
    {
     "name": "stdout",
     "output_type": "stream",
     "text": [
      "Out[17]: 6276"
     ]
    }
   ],
   "source": [
    "weather_df.count()"
   ]
  },
  {
   "cell_type": "code",
   "execution_count": null,
   "metadata": {
    "application/vnd.databricks.v1+cell": {
     "cellMetadata": {
      "byteLimit": 2048000,
      "rowLimit": 10000
     },
     "inputWidgets": {},
     "nuid": "f6e98943-a330-4185-89fd-b68bdb174b77",
     "showTitle": false,
     "title": ""
    }
   },
   "outputs": [
    {
     "name": "stdout",
     "output_type": "stream",
     "text": [
      "Out[18]: 8"
     ]
    }
   ],
   "source": [
    "len(weather_df.columns)"
   ]
  },
  {
   "cell_type": "code",
   "execution_count": null,
   "metadata": {
    "application/vnd.databricks.v1+cell": {
     "cellMetadata": {
      "byteLimit": 2048000,
      "rowLimit": 10000
     },
     "inputWidgets": {},
     "nuid": "073668b8-8a2e-42e7-b465-374cdc3e4a47",
     "showTitle": false,
     "title": ""
    }
   },
   "outputs": [
    {
     "name": "stdout",
     "output_type": "stream",
     "text": [
      "root\n",
      " |-- distance: double (nullable = true)\n",
      " |-- cab_type: string (nullable = true)\n",
      " |-- time_stamp: double (nullable = true)\n",
      " |-- destination: string (nullable = true)\n",
      " |-- source: string (nullable = true)\n",
      " |-- price: double (nullable = true)\n",
      " |-- surge_multiplier: double (nullable = true)\n",
      " |-- id: string (nullable = false)\n",
      " |-- product_id: string (nullable = true)\n",
      " |-- name: string (nullable = true)\n",
      "\n"
     ]
    }
   ],
   "source": [
    "cabs_df.printSchema()"
   ]
  },
  {
   "cell_type": "code",
   "execution_count": null,
   "metadata": {
    "application/vnd.databricks.v1+cell": {
     "cellMetadata": {
      "byteLimit": 2048000,
      "rowLimit": 10000
     },
     "inputWidgets": {},
     "nuid": "eae3019c-0fd8-4821-b5af-91182ecf401a",
     "showTitle": false,
     "title": ""
    }
   },
   "outputs": [
    {
     "name": "stdout",
     "output_type": "stream",
     "text": [
      "root\n",
      " |-- temp: double (nullable = true)\n",
      " |-- location: string (nullable = true)\n",
      " |-- clouds: double (nullable = true)\n",
      " |-- pressure: double (nullable = true)\n",
      " |-- rain: double (nullable = true)\n",
      " |-- time_stamp: integer (nullable = true)\n",
      " |-- humidity: double (nullable = true)\n",
      " |-- wind: double (nullable = true)\n",
      "\n"
     ]
    }
   ],
   "source": [
    "weather_df.printSchema()"
   ]
  },
  {
   "cell_type": "code",
   "execution_count": null,
   "metadata": {
    "application/vnd.databricks.v1+cell": {
     "cellMetadata": {
      "byteLimit": 2048000,
      "rowLimit": 10000
     },
     "inputWidgets": {},
     "nuid": "db0ee23a-9eaa-46bb-80a8-96b15672312a",
     "showTitle": false,
     "title": ""
    }
   },
   "outputs": [],
   "source": [
    "from pyspark.sql.functions import *"
   ]
  },
  {
   "cell_type": "markdown",
   "metadata": {
    "application/vnd.databricks.v1+cell": {
     "cellMetadata": {
      "byteLimit": 2048000,
      "rowLimit": 10000
     },
     "inputWidgets": {},
     "nuid": "57687401-50ca-4142-8355-986edead2e48",
     "showTitle": false,
     "title": ""
    }
   },
   "source": [
    "### Finding and Handling the Null values "
   ]
  },
  {
   "cell_type": "markdown",
   "metadata": {
    "application/vnd.databricks.v1+cell": {
     "cellMetadata": {
      "byteLimit": 2048000,
      "rowLimit": 10000
     },
     "inputWidgets": {},
     "nuid": "e2b2c62b-a400-41e2-af77-d803e5acce6b",
     "showTitle": false,
     "title": ""
    }
   },
   "source": [
    "##### Cabs Data"
   ]
  },
  {
   "cell_type": "code",
   "execution_count": null,
   "metadata": {
    "application/vnd.databricks.v1+cell": {
     "cellMetadata": {
      "byteLimit": 2048000,
      "rowLimit": 10000
     },
     "inputWidgets": {},
     "nuid": "4a738ba7-209a-42d8-85b5-4deb6ea4e0d0",
     "showTitle": false,
     "title": ""
    }
   },
   "outputs": [
    {
     "name": "stdout",
     "output_type": "stream",
     "text": [
      "+--------+--------+----------+-----------+------+-----+----------------+---+----------+----+\n",
      "|distance|cab_type|time_stamp|destination|source|price|surge_multiplier| id|product_id|name|\n",
      "+--------+--------+----------+-----------+------+-----+----------------+---+----------+----+\n",
      "|       0|       0|         0|          0|     0|55095|               0|  0|         0|   0|\n",
      "+--------+--------+----------+-----------+------+-----+----------------+---+----------+----+\n",
      "\n"
     ]
    }
   ],
   "source": [
    "cabs_df.select([sum(when(col(c).isNull(),1).otherwise(0)).alias(c) for c in cabs_df.columns]).show()"
   ]
  },
  {
   "cell_type": "code",
   "execution_count": null,
   "metadata": {
    "application/vnd.databricks.v1+cell": {
     "cellMetadata": {
      "byteLimit": 2048000,
      "rowLimit": 10000
     },
     "inputWidgets": {},
     "nuid": "76caf76e-c633-4a6c-8710-2a346e7c218c",
     "showTitle": false,
     "title": ""
    }
   },
   "outputs": [],
   "source": [
    "cabs_df_cleaned = cabs_df.dropna()"
   ]
  },
  {
   "cell_type": "code",
   "execution_count": null,
   "metadata": {
    "application/vnd.databricks.v1+cell": {
     "cellMetadata": {
      "byteLimit": 2048000,
      "rowLimit": 10000
     },
     "inputWidgets": {},
     "nuid": "08135a3e-a7d2-4cf7-8c5f-905ec42b1642",
     "showTitle": false,
     "title": ""
    }
   },
   "outputs": [
    {
     "name": "stdout",
     "output_type": "stream",
     "text": [
      "+--------+--------+----------+-----------+------+-----+----------------+---+----------+----+\n",
      "|distance|cab_type|time_stamp|destination|source|price|surge_multiplier| id|product_id|name|\n",
      "+--------+--------+----------+-----------+------+-----+----------------+---+----------+----+\n",
      "|       0|       0|         0|          0|     0|    0|               0|  0|         0|   0|\n",
      "+--------+--------+----------+-----------+------+-----+----------------+---+----------+----+\n",
      "\n"
     ]
    }
   ],
   "source": [
    "cabs_df_cleaned.select([sum(when(col(c).isNull(),1).otherwise(0)).alias(c) for c in cabs_df_cleaned.columns]).show()"
   ]
  },
  {
   "cell_type": "markdown",
   "metadata": {
    "application/vnd.databricks.v1+cell": {
     "cellMetadata": {
      "byteLimit": 2048000,
      "rowLimit": 10000
     },
     "inputWidgets": {},
     "nuid": "0db8831e-7088-41a6-9f33-c8cfb71097d7",
     "showTitle": false,
     "title": ""
    }
   },
   "source": [
    "##### Weather Data"
   ]
  },
  {
   "cell_type": "code",
   "execution_count": null,
   "metadata": {
    "application/vnd.databricks.v1+cell": {
     "cellMetadata": {
      "byteLimit": 2048000,
      "rowLimit": 10000
     },
     "inputWidgets": {},
     "nuid": "c6f3ad33-54f0-4128-a3cf-4f2d1ef4ac2f",
     "showTitle": false,
     "title": ""
    }
   },
   "outputs": [
    {
     "name": "stdout",
     "output_type": "stream",
     "text": [
      "+----+--------+------+--------+----+----------+--------+----+\n",
      "|temp|location|clouds|pressure|rain|time_stamp|humidity|wind|\n",
      "+----+--------+------+--------+----+----------+--------+----+\n",
      "|   0|       0|     0|       0|5382|         0|       0|   0|\n",
      "+----+--------+------+--------+----+----------+--------+----+\n",
      "\n"
     ]
    }
   ],
   "source": [
    "weather_df.select([sum(when(col(c).isNull(),1).otherwise(0)).alias(c) for c in weather_df.columns]).show()"
   ]
  },
  {
   "cell_type": "code",
   "execution_count": null,
   "metadata": {
    "application/vnd.databricks.v1+cell": {
     "cellMetadata": {
      "byteLimit": 2048000,
      "rowLimit": 10000
     },
     "inputWidgets": {},
     "nuid": "559f6d4d-e31d-4733-ab60-ddf6912bc5af",
     "showTitle": false,
     "title": ""
    }
   },
   "outputs": [],
   "source": [
    "weather_df_cleaned = weather_df.fillna({'rain':0.0})"
   ]
  },
  {
   "cell_type": "code",
   "execution_count": null,
   "metadata": {
    "application/vnd.databricks.v1+cell": {
     "cellMetadata": {
      "byteLimit": 2048000,
      "rowLimit": 10000
     },
     "inputWidgets": {},
     "nuid": "becf2817-2825-4525-a42d-fa12938603c6",
     "showTitle": false,
     "title": ""
    }
   },
   "outputs": [
    {
     "name": "stdout",
     "output_type": "stream",
     "text": [
      "+----+--------+------+--------+----+----------+--------+----+\n",
      "|temp|location|clouds|pressure|rain|time_stamp|humidity|wind|\n",
      "+----+--------+------+--------+----+----------+--------+----+\n",
      "|   0|       0|     0|       0|   0|         0|       0|   0|\n",
      "+----+--------+------+--------+----+----------+--------+----+\n",
      "\n"
     ]
    }
   ],
   "source": [
    "weather_df_cleaned.select([sum(when(col(c).isNull(),1).otherwise(0)).alias(c) for c in weather_df_cleaned.columns]).show()"
   ]
  },
  {
   "cell_type": "markdown",
   "metadata": {
    "application/vnd.databricks.v1+cell": {
     "cellMetadata": {
      "byteLimit": 2048000,
      "rowLimit": 10000
     },
     "inputWidgets": {},
     "nuid": "a93a22dd-5152-4312-a9ec-e3a46a9f7731",
     "showTitle": false,
     "title": ""
    }
   },
   "source": [
    "### Convert TimeStamp from String to datetime"
   ]
  },
  {
   "cell_type": "code",
   "execution_count": null,
   "metadata": {
    "application/vnd.databricks.v1+cell": {
     "cellMetadata": {
      "byteLimit": 2048000,
      "rowLimit": 10000
     },
     "inputWidgets": {},
     "nuid": "88fd9cc6-3fa0-4885-a5a7-e069e63e2059",
     "showTitle": false,
     "title": ""
    }
   },
   "outputs": [],
   "source": [
    "cabs_df_tf = cabs_df_cleaned.withColumn(\"time_stamp\", to_timestamp(col(\"time_stamp\") / 1000)) \\\n",
    "    .withColumn(\"date\", date_format(col(\"time_stamp\"), 'yyyy-MM-dd')) \\\n",
    "    .withColumn(\"time\", hour(col(\"time_stamp\"))) \\\n",
    "    .withColumn(\"weekday\", dayofweek(col(\"time_stamp\")) - 1)  \n",
    "\n",
    "weather_df_tf = weather_df_cleaned.withColumn(\"time_stamp\", to_timestamp(col(\"time_stamp\"))) \\\n",
    "    .withColumn(\"date\", date_format(col(\"time_stamp\"), 'yyyy-MM-dd')) \\\n",
    "    .withColumn(\"time\", hour(col(\"time_stamp\")))\n"
   ]
  },
  {
   "cell_type": "markdown",
   "metadata": {
    "application/vnd.databricks.v1+cell": {
     "cellMetadata": {
      "byteLimit": 2048000,
      "rowLimit": 10000
     },
     "inputWidgets": {},
     "nuid": "a2e3b663-5719-4059-9e17-ba7bc58de2ec",
     "showTitle": false,
     "title": ""
    }
   },
   "source": [
    "### Finding out the Dollar per mile "
   ]
  },
  {
   "cell_type": "code",
   "execution_count": null,
   "metadata": {
    "application/vnd.databricks.v1+cell": {
     "cellMetadata": {
      "byteLimit": 2048000,
      "rowLimit": 10000
     },
     "inputWidgets": {},
     "nuid": "45519967-3b24-48a2-aacc-5986e046212f",
     "showTitle": false,
     "title": ""
    }
   },
   "outputs": [],
   "source": [
    "cabs_df_tf = cabs_df_tf.withColumn(\"dollars_per_mile\", col(\"price\") / col(\"distance\"))"
   ]
  },
  {
   "cell_type": "markdown",
   "metadata": {
    "application/vnd.databricks.v1+cell": {
     "cellMetadata": {
      "byteLimit": 2048000,
      "rowLimit": 10000
     },
     "inputWidgets": {},
     "nuid": "57013a94-1a18-4427-b5a3-e6417e36d94c",
     "showTitle": false,
     "title": ""
    }
   },
   "source": [
    "#### Find Total revenue"
   ]
  },
  {
   "cell_type": "code",
   "execution_count": null,
   "metadata": {
    "application/vnd.databricks.v1+cell": {
     "cellMetadata": {
      "byteLimit": 2048000,
      "rowLimit": 10000
     },
     "inputWidgets": {},
     "nuid": "00911a38-61a9-4297-bc64-ef572a2d4f95",
     "showTitle": false,
     "title": ""
    }
   },
   "outputs": [],
   "source": [
    "cabs_df_tf = cabs_df_tf.withColumn('revenue', col('price') * col('surge_multiplier'))"
   ]
  },
  {
   "cell_type": "code",
   "execution_count": null,
   "metadata": {
    "application/vnd.databricks.v1+cell": {
     "cellMetadata": {
      "byteLimit": 2048000,
      "rowLimit": 10000
     },
     "inputWidgets": {},
     "nuid": "d0d99252-61e2-4e00-b0cd-3d89ee2f5fe2",
     "showTitle": false,
     "title": ""
    }
   },
   "outputs": [
    {
     "name": "stdout",
     "output_type": "stream",
     "text": [
      "+-------------------+\n",
      "|         time_stamp|\n",
      "+-------------------+\n",
      "|2018-12-14 12:20:00|\n",
      "|2018-12-14 12:20:00|\n",
      "+-------------------+\n",
      "only showing top 2 rows\n",
      "\n"
     ]
    }
   ],
   "source": [
    "cabs_df_tf.select(['time_stamp']).show(2)"
   ]
  },
  {
   "cell_type": "code",
   "execution_count": null,
   "metadata": {
    "application/vnd.databricks.v1+cell": {
     "cellMetadata": {
      "byteLimit": 2048000,
      "rowLimit": 10000
     },
     "inputWidgets": {},
     "nuid": "c739987d-9423-4a2e-9fa5-14c432bfbd41",
     "showTitle": false,
     "title": ""
    }
   },
   "outputs": [
    {
     "name": "stdout",
     "output_type": "stream",
     "text": [
      "+-------------------+\n",
      "|         time_stamp|\n",
      "+-------------------+\n",
      "|2018-12-14 23:45:01|\n",
      "|2018-12-13 12:45:01|\n",
      "+-------------------+\n",
      "only showing top 2 rows\n",
      "\n"
     ]
    }
   ],
   "source": [
    "weather_df_tf.select(['time_stamp']).show(2)"
   ]
  },
  {
   "cell_type": "markdown",
   "metadata": {
    "application/vnd.databricks.v1+cell": {
     "cellMetadata": {
      "byteLimit": 2048000,
      "rowLimit": 10000
     },
     "inputWidgets": {},
     "nuid": "7e694156-e826-4faa-92a3-406f49f84186",
     "showTitle": false,
     "title": ""
    }
   },
   "source": [
    "### Create Merge_date field for merging the data based on source and timeStamp"
   ]
  },
  {
   "cell_type": "code",
   "execution_count": null,
   "metadata": {
    "application/vnd.databricks.v1+cell": {
     "cellMetadata": {
      "byteLimit": 2048000,
      "rowLimit": 10000
     },
     "inputWidgets": {},
     "nuid": "4ca46eb1-f1a4-4ddd-a123-30882a26048f",
     "showTitle": false,
     "title": ""
    }
   },
   "outputs": [],
   "source": [
    "cabs_df_tf = cabs_df_tf.withColumn(\"merge_date\", \n",
    "                           concat_ws(\" - \", \n",
    "                                     col(\"source\").cast(\"string\"), \n",
    "                                     date_format(col(\"time_stamp\"), 'yyyy-MM-dd'), \n",
    "                                     hour(col(\"time_stamp\")).cast(\"string\")))\n",
    "\n",
    "weather_df_tf = weather_df_tf.withColumn(\"merge_date\", \n",
    "                             concat_ws(\" - \", \n",
    "                                       col(\"location\").cast(\"string\"), \n",
    "                                       date_format(col(\"time_stamp\"), 'yyyy-MM-dd'), \n",
    "                                       hour(col(\"time_stamp\")).cast(\"string\")))\n",
    "\n"
   ]
  },
  {
   "cell_type": "code",
   "execution_count": null,
   "metadata": {
    "application/vnd.databricks.v1+cell": {
     "cellMetadata": {
      "byteLimit": 2048000,
      "rowLimit": 10000
     },
     "inputWidgets": {},
     "nuid": "25140ee1-8ac0-43eb-990c-8bfc460f032c",
     "showTitle": false,
     "title": ""
    }
   },
   "outputs": [
    {
     "name": "stdout",
     "output_type": "stream",
     "text": [
      "+-------------------------------+\n",
      "|merge_date                     |\n",
      "+-------------------------------+\n",
      "|North Station - 2018-12-14 - 23|\n",
      "|North Station - 2018-12-13 - 12|\n",
      "|North Station - 2018-11-27 - 22|\n",
      "|North Station - 2018-11-28 - 22|\n",
      "|North Station - 2018-11-30 - 8 |\n",
      "+-------------------------------+\n",
      "only showing top 5 rows\n",
      "\n"
     ]
    }
   ],
   "source": [
    "weather_df_tf.select(['merge_date']).show(5, truncate=False)"
   ]
  },
  {
   "cell_type": "markdown",
   "metadata": {
    "application/vnd.databricks.v1+cell": {
     "cellMetadata": {
      "byteLimit": 2048000,
      "rowLimit": 10000
     },
     "inputWidgets": {},
     "nuid": "d71a3ec7-4149-4d07-97e3-24414692348a",
     "showTitle": false,
     "title": ""
    }
   },
   "source": [
    "#### Drop Duplicates in wheather data"
   ]
  },
  {
   "cell_type": "code",
   "execution_count": null,
   "metadata": {
    "application/vnd.databricks.v1+cell": {
     "cellMetadata": {
      "byteLimit": 2048000,
      "rowLimit": 10000
     },
     "inputWidgets": {},
     "nuid": "d688e6d8-bedd-4e58-8d8c-05fb612a7897",
     "showTitle": false,
     "title": ""
    }
   },
   "outputs": [],
   "source": [
    "weather_df_tf = weather_df_tf.dropDuplicates(['merge_date'])"
   ]
  },
  {
   "cell_type": "code",
   "execution_count": null,
   "metadata": {
    "application/vnd.databricks.v1+cell": {
     "cellMetadata": {
      "byteLimit": 2048000,
      "rowLimit": 10000
     },
     "inputWidgets": {},
     "nuid": "adde137e-8c1c-48a0-8ff7-979dce9888fd",
     "showTitle": false,
     "title": ""
    }
   },
   "outputs": [
    {
     "name": "stdout",
     "output_type": "stream",
     "text": [
      "Out[36]: 3960"
     ]
    }
   ],
   "source": [
    "weather_df_tf.count()"
   ]
  },
  {
   "cell_type": "markdown",
   "metadata": {
    "application/vnd.databricks.v1+cell": {
     "cellMetadata": {
      "byteLimit": 2048000,
      "rowLimit": 10000
     },
     "inputWidgets": {},
     "nuid": "a63a842a-f9d8-4bd2-812c-9ec365cf2bf5",
     "showTitle": false,
     "title": ""
    }
   },
   "source": [
    "##### Rename columns with same name"
   ]
  },
  {
   "cell_type": "code",
   "execution_count": null,
   "metadata": {
    "application/vnd.databricks.v1+cell": {
     "cellMetadata": {
      "byteLimit": 2048000,
      "rowLimit": 10000
     },
     "inputWidgets": {},
     "nuid": "acdcea2d-6219-41f0-b6f5-cbab4c39e9c3",
     "showTitle": false,
     "title": ""
    }
   },
   "outputs": [],
   "source": [
    "weather_df_tf = weather_df_tf.withColumnRenamed('time_stamp','time_stamp_w')\n",
    "weather_df_tf = weather_df_tf.withColumnRenamed('date','date_w')\n",
    "weather_df_tf = weather_df_tf.withColumnRenamed('time','time_w')\n",
    "weather_df_tf = weather_df_tf.withColumnRenamed('merge_date','merge_date_w')\n",
    "weather_df_tf = weather_df_tf.withColumnRenamed('id','id_w')"
   ]
  },
  {
   "cell_type": "markdown",
   "metadata": {
    "application/vnd.databricks.v1+cell": {
     "cellMetadata": {
      "byteLimit": 2048000,
      "rowLimit": 10000
     },
     "inputWidgets": {},
     "nuid": "9e9cfae6-f06e-4ef5-96c6-14a82c642d30",
     "showTitle": false,
     "title": ""
    }
   },
   "source": [
    "### Join Cabs and Weather Data"
   ]
  },
  {
   "cell_type": "code",
   "execution_count": null,
   "metadata": {
    "application/vnd.databricks.v1+cell": {
     "cellMetadata": {
      "byteLimit": 2048000,
      "rowLimit": 10000
     },
     "inputWidgets": {},
     "nuid": "47201a67-c767-4e4b-80ec-c52bc596f5e9",
     "showTitle": false,
     "title": ""
    }
   },
   "outputs": [],
   "source": [
    "# A broadcast join occurs when the smaller dataset (or DataFrame) is sent to all worker nodes in the Spark cluster. This allows each node to perform the join \n",
    "#  operation locally without needing to shuffle large amounts of data across the network, which can be time-consuming and resource-intensive.\n",
    "\n",
    "from pyspark.sql.functions import broadcast\n",
    "\n",
    "weather_df_tf = broadcast(weather_df_tf)"
   ]
  },
  {
   "cell_type": "code",
   "execution_count": null,
   "metadata": {
    "application/vnd.databricks.v1+cell": {
     "cellMetadata": {
      "byteLimit": 2048000,
      "rowLimit": 10000
     },
     "inputWidgets": {},
     "nuid": "65816cb0-bb26-4902-8c99-da3a37671135",
     "showTitle": false,
     "title": ""
    }
   },
   "outputs": [],
   "source": [
    "joined_df = cabs_df_tf.join(weather_df_tf, cabs_df_tf['merge_date'] == weather_df_tf['merge_date_w'], how='left')"
   ]
  },
  {
   "cell_type": "markdown",
   "metadata": {
    "application/vnd.databricks.v1+cell": {
     "cellMetadata": {
      "byteLimit": 2048000,
      "rowLimit": 10000
     },
     "inputWidgets": {},
     "nuid": "c5de3794-35dc-4a38-b0b7-82d0e9e3f896",
     "showTitle": false,
     "title": ""
    }
   },
   "source": [
    "### Find and handle missing values"
   ]
  },
  {
   "cell_type": "code",
   "execution_count": null,
   "metadata": {
    "application/vnd.databricks.v1+cell": {
     "cellMetadata": {
      "byteLimit": 2048000,
      "rowLimit": 10000
     },
     "inputWidgets": {},
     "nuid": "c6d8f752-fa2d-483d-8ea0-301a89bf9d92",
     "showTitle": false,
     "title": ""
    }
   },
   "outputs": [
    {
     "name": "stdout",
     "output_type": "stream",
     "text": [
      "+--------+--------+----------+-----------+------+-----+----------------+---+----------+----+----+----+-------+----------------+-------+----------+----+--------+------+--------+----+------------+--------+----+------+------+------------+\n",
      "|distance|cab_type|time_stamp|destination|source|price|surge_multiplier| id|product_id|name|date|time|weekday|dollars_per_mile|revenue|merge_date|temp|location|clouds|pressure|rain|time_stamp_w|humidity|wind|date_w|time_w|merge_date_w|\n",
      "+--------+--------+----------+-----------+------+-----+----------------+---+----------+----+----+----+-------+----------------+-------+----------+----+--------+------+--------+----+------------+--------+----+------+------+------------+\n",
      "|       0|       0|         0|          0|     0|    0|               0|  0|         0|   0|   0|   0|      0|               0|      0|         0|5573|    5573|  5573|    5573|5573|        5573|    5573|5573|  5573|  5573|        5573|\n",
      "+--------+--------+----------+-----------+------+-----+----------------+---+----------+----+----+----+-------+----------------+-------+----------+----+--------+------+--------+----+------------+--------+----+------+------+------------+\n",
      "\n"
     ]
    }
   ],
   "source": [
    "joined_df.select([sum(when(col(c).isNull(),1).otherwise(0)).alias(c) for c in joined_df.columns]).show()"
   ]
  },
  {
   "cell_type": "code",
   "execution_count": null,
   "metadata": {
    "application/vnd.databricks.v1+cell": {
     "cellMetadata": {
      "byteLimit": 2048000,
      "rowLimit": 10000
     },
     "inputWidgets": {},
     "nuid": "9c8b9571-1cc2-4adc-8a4b-a13a28c7d805",
     "showTitle": false,
     "title": ""
    }
   },
   "outputs": [],
   "source": [
    "joined_df = joined_df.dropna()"
   ]
  },
  {
   "cell_type": "code",
   "execution_count": null,
   "metadata": {
    "application/vnd.databricks.v1+cell": {
     "cellMetadata": {
      "byteLimit": 2048000,
      "rowLimit": 10000
     },
     "inputWidgets": {},
     "nuid": "ac7dbef1-2cdb-4d16-b889-ee989eeea10e",
     "showTitle": false,
     "title": ""
    }
   },
   "outputs": [
    {
     "name": "stdout",
     "output_type": "stream",
     "text": [
      "+--------+--------+----------+-----------+------+-----+----------------+---+----------+----+----+----+-------+----------------+-------+----------+----+--------+------+--------+----+------------+--------+----+------+------+------------+\n",
      "|distance|cab_type|time_stamp|destination|source|price|surge_multiplier| id|product_id|name|date|time|weekday|dollars_per_mile|revenue|merge_date|temp|location|clouds|pressure|rain|time_stamp_w|humidity|wind|date_w|time_w|merge_date_w|\n",
      "+--------+--------+----------+-----------+------+-----+----------------+---+----------+----+----+----+-------+----------------+-------+----------+----+--------+------+--------+----+------------+--------+----+------+------+------------+\n",
      "|       0|       0|         0|          0|     0|    0|               0|  0|         0|   0|   0|   0|      0|               0|      0|         0|   0|       0|     0|       0|   0|           0|       0|   0|     0|     0|           0|\n",
      "+--------+--------+----------+-----------+------+-----+----------------+---+----------+----+----+----+-------+----------------+-------+----------+----+--------+------+--------+----+------------+--------+----+------+------+------------+\n",
      "\n"
     ]
    }
   ],
   "source": [
    "joined_df.select([sum(when(col(c).isNull(),1).otherwise(0)).alias(c) for c in joined_df.columns]).show()"
   ]
  },
  {
   "cell_type": "code",
   "execution_count": null,
   "metadata": {
    "application/vnd.databricks.v1+cell": {
     "cellMetadata": {
      "byteLimit": 2048000,
      "rowLimit": 10000
     },
     "inputWidgets": {},
     "nuid": "a05c1a25-0bb7-4309-9575-80473592a9ef",
     "showTitle": false,
     "title": ""
    }
   },
   "outputs": [
    {
     "name": "stdout",
     "output_type": "stream",
     "text": [
      "Out[43]: 632403"
     ]
    }
   ],
   "source": [
    "joined_df.count()"
   ]
  },
  {
   "cell_type": "code",
   "execution_count": null,
   "metadata": {
    "application/vnd.databricks.v1+cell": {
     "cellMetadata": {
      "byteLimit": 2048000,
      "rowLimit": 10000
     },
     "inputWidgets": {},
     "nuid": "b8b9705d-10e1-4497-ab95-62148603d93d",
     "showTitle": false,
     "title": ""
    }
   },
   "outputs": [
    {
     "name": "stdout",
     "output_type": "stream",
     "text": [
      "+--------+------+\n",
      "|cab_type| count|\n",
      "+--------+------+\n",
      "|    Lyft|304637|\n",
      "|    Uber|327766|\n",
      "+--------+------+\n",
      "\n"
     ]
    }
   ],
   "source": [
    "joined_df.groupBy(col('cab_type')).count().show()"
   ]
  },
  {
   "cell_type": "markdown",
   "metadata": {
    "application/vnd.databricks.v1+cell": {
     "cellMetadata": {
      "byteLimit": 2048000,
      "rowLimit": 10000
     },
     "inputWidgets": {},
     "nuid": "89e9d5fa-c8e6-433e-85b4-35c9b2cfd1c6",
     "showTitle": false,
     "title": ""
    }
   },
   "source": [
    "# Find Lat and Lon using source names"
   ]
  },
  {
   "cell_type": "code",
   "execution_count": null,
   "metadata": {
    "application/vnd.databricks.v1+cell": {
     "cellMetadata": {
      "byteLimit": 2048000,
      "rowLimit": 10000
     },
     "inputWidgets": {},
     "nuid": "47673005-2ff6-412a-9bf1-4728a10827bc",
     "showTitle": false,
     "title": ""
    }
   },
   "outputs": [
    {
     "data": {
      "application/vnd.databricks.v1+bamboolib_hint": "{\"pd.DataFrames\": [], \"version\": \"0.0.1\"}",
      "text/plain": []
     },
     "metadata": {},
     "output_type": "display_data"
    }
   ],
   "source": [
    "from geopy.geocoders import Nominatim\n",
    "import numpy as np\n",
    "import pandas as pd\n",
    "import time\n",
    "\n",
    "\n",
    "distinct_sources = joined_df.select('source').distinct().rdd.flatMap(lambda x: x).collect()\n",
    "\n",
    "\n",
    "geolocator = Nominatim(user_agent=\"app\")\n",
    "\n",
    "def geocode_with_retry(location, retries=3, delay=5):\n",
    "    for _ in range(retries):\n",
    "        try:\n",
    "            result = geolocator.geocode(location)\n",
    "            if result:\n",
    "                return (result.latitude, result.longitude)\n",
    "        except (TimeoutError, Exception) as e:\n",
    "            print(f\"Error: {e}. Retrying...\")\n",
    "            time.sleep(delay)\n",
    "    return np.nan\n",
    "\n",
    "\n",
    "lat_long = []\n",
    "\n",
    "for location in distinct_sources:\n",
    "    geo = geocode_with_retry(location)\n",
    "    lat_long.append(geo)\n",
    "\n",
    "\n",
    "df_lat_long = pd.DataFrame({\n",
    "    'location': distinct_sources,\n",
    "    'lat_long': lat_long\n",
    "})\n",
    "\n",
    "df_lat_long[['latitude', 'longitude']] = pd.DataFrame(df_lat_long['lat_long'].tolist(), index=df_lat_long.index)\n",
    "\n",
    "df_lat_long.drop(columns=['lat_long'], inplace=True)\n",
    "\n"
   ]
  },
  {
   "cell_type": "code",
   "execution_count": null,
   "metadata": {
    "application/vnd.databricks.v1+cell": {
     "cellMetadata": {
      "byteLimit": 2048000,
      "rowLimit": 10000
     },
     "inputWidgets": {},
     "nuid": "3ae04b5c-d260-486c-8e0d-827c579b1a4a",
     "showTitle": false,
     "title": ""
    }
   },
   "outputs": [],
   "source": [
    "df_lat_long = spark.createDataFrame(df_lat_long, [\"location_r\", \"source_latitude\", \"source_longitude\"])"
   ]
  },
  {
   "cell_type": "code",
   "execution_count": null,
   "metadata": {
    "application/vnd.databricks.v1+cell": {
     "cellMetadata": {
      "byteLimit": 2048000,
      "rowLimit": 10000
     },
     "inputWidgets": {},
     "nuid": "65779a4f-4538-42cd-b14e-da973c4691d6",
     "showTitle": false,
     "title": ""
    }
   },
   "outputs": [],
   "source": [
    "joined_df = joined_df.join(df_lat_long, joined_df.source == df_lat_long.location_r, how='left')"
   ]
  },
  {
   "cell_type": "code",
   "execution_count": null,
   "metadata": {
    "application/vnd.databricks.v1+cell": {
     "cellMetadata": {
      "byteLimit": 2048000,
      "rowLimit": 10000
     },
     "inputWidgets": {},
     "nuid": "7b988b69-7b58-4511-96ad-dcb9554fde4a",
     "showTitle": false,
     "title": ""
    }
   },
   "outputs": [],
   "source": [
    "joined_df = joined_df.drop(\"location_r\")"
   ]
  },
  {
   "cell_type": "code",
   "execution_count": null,
   "metadata": {
    "application/vnd.databricks.v1+cell": {
     "cellMetadata": {
      "byteLimit": 2048000,
      "rowLimit": 10000
     },
     "inputWidgets": {},
     "nuid": "68c1c51e-14cf-4de8-ade5-73f12d91a9f7",
     "showTitle": false,
     "title": ""
    }
   },
   "outputs": [
    {
     "name": "stdout",
     "output_type": "stream",
     "text": [
      "+--------------------+------------------+--------------------+\n",
      "|              source|   source_latitude|    source_longitude|\n",
      "+--------------------+------------------+--------------------+\n",
      "|       North Station|        39.4661332|-0.37777229059911954|\n",
      "|Northeastern Univ...|       42.33895455|  -71.08805803336392|\n",
      "|         Beacon Hill|        42.3587085|          -71.067829|\n",
      "|       South Station|        42.3525085|         -71.0549447|\n",
      "|  Financial District|        40.7076681|          -74.009271|\n",
      "|           North End|        42.3650974|         -71.0544954|\n",
      "|    Haymarket Square|        42.3629502|         -71.0578447|\n",
      "|   Boston University|42.350421499999996|  -71.10322831831216|\n",
      "|            West End|        42.3639186|         -71.0638993|\n",
      "|    Theatre District|        39.7446498|         -104.996402|\n",
      "|            Back Bay|       42.35054885|  -71.08031131584724|\n",
      "|              Fenway|        42.3451868|         -71.1045987|\n",
      "+--------------------+------------------+--------------------+\n",
      "\n"
     ]
    }
   ],
   "source": [
    "joined_df.select(['source','source_latitude','source_longitude']).distinct().show()"
   ]
  },
  {
   "cell_type": "markdown",
   "metadata": {
    "application/vnd.databricks.v1+cell": {
     "cellMetadata": {
      "byteLimit": 2048000,
      "rowLimit": 10000
     },
     "inputWidgets": {},
     "nuid": "8529f9ac-72f0-4166-9509-88143f5aee43",
     "showTitle": false,
     "title": ""
    }
   },
   "source": [
    "## Shape of data"
   ]
  },
  {
   "cell_type": "code",
   "execution_count": null,
   "metadata": {
    "application/vnd.databricks.v1+cell": {
     "cellMetadata": {
      "byteLimit": 2048000,
      "rowLimit": 10000
     },
     "inputWidgets": {},
     "nuid": "5a046249-d0e9-44cf-a201-f737847c0f17",
     "showTitle": false,
     "title": ""
    }
   },
   "outputs": [
    {
     "name": "stdout",
     "output_type": "stream",
     "text": [
      "Out[60]: 632403"
     ]
    }
   ],
   "source": [
    "joined_df.count()"
   ]
  },
  {
   "cell_type": "code",
   "execution_count": null,
   "metadata": {
    "application/vnd.databricks.v1+cell": {
     "cellMetadata": {
      "byteLimit": 2048000,
      "rowLimit": 10000
     },
     "inputWidgets": {},
     "nuid": "ded95e82-8691-4b2a-8c59-a5bf883d28b9",
     "showTitle": false,
     "title": ""
    }
   },
   "outputs": [
    {
     "name": "stdout",
     "output_type": "stream",
     "text": [
      "Out[61]: 29"
     ]
    }
   ],
   "source": [
    "len(joined_df.columns)"
   ]
  },
  {
   "cell_type": "code",
   "execution_count": null,
   "metadata": {
    "application/vnd.databricks.v1+cell": {
     "cellMetadata": {
      "byteLimit": 2048000,
      "rowLimit": 10000
     },
     "inputWidgets": {},
     "nuid": "6e8b7660-c9d2-4e45-a0b3-f71156ca6cd9",
     "showTitle": false,
     "title": ""
    }
   },
   "outputs": [
    {
     "name": "stdout",
     "output_type": "stream",
     "text": [
      "Out[54]: ['distance',\n",
      " 'cab_type',\n",
      " 'time_stamp',\n",
      " 'destination',\n",
      " 'source',\n",
      " 'price',\n",
      " 'surge_multiplier',\n",
      " 'id',\n",
      " 'product_id',\n",
      " 'name',\n",
      " 'date',\n",
      " 'time',\n",
      " 'weekday',\n",
      " 'dollars_per_mile',\n",
      " 'revenue',\n",
      " 'merge_date',\n",
      " 'temp',\n",
      " 'location',\n",
      " 'clouds',\n",
      " 'pressure',\n",
      " 'rain',\n",
      " 'time_stamp_w',\n",
      " 'humidity',\n",
      " 'wind',\n",
      " 'date_w',\n",
      " 'time_w',\n",
      " 'merge_date_w']"
     ]
    }
   ],
   "source": [
    "joined_df.columns"
   ]
  },
  {
   "cell_type": "code",
   "execution_count": null,
   "metadata": {
    "application/vnd.databricks.v1+cell": {
     "cellMetadata": {
      "byteLimit": 2048000,
      "rowLimit": 10000
     },
     "inputWidgets": {},
     "nuid": "f32e5130-80a8-4dc3-8708-c6c51bd4d730",
     "showTitle": false,
     "title": ""
    }
   },
   "outputs": [],
   "source": [
    "storage_account_name = \"xxxxxxxxxxxxxxxxx\"\n",
    "storage_account_key = \"xxxxxxxxxxxxxxxxxxxxxxxxxxxx\"\n",
    "container_name = \"cabsdatatransformed\"\n",
    "spark.conf.set(f\"fs.azure.account.key.{storage_account_name}.blob.core.windows.net\", storage_account_key)\n",
    "output_path = f\"wasbs://{container_name}@{storage_account_name}.blob.core.windows.net/\"\n",
    "joined_df.write.mode(\"overwrite\").option(\"header\", \"true\").parquet(output_path)"
   ]
  }
 ],
 "metadata": {
  "application/vnd.databricks.v1+notebook": {
   "dashboards": [],
   "environmentMetadata": null,
   "language": "python",
   "notebookMetadata": {
    "mostRecentlyExecutedCommandWithImplicitDF": {
     "commandId": 4474646575537202,
     "dataframes": [
      "_sqldf"
     ]
    },
    "pythonIndentUnit": 4
   },
   "notebookName": "Uber-Lyft Transformation Backup",
   "widgets": {}
  },
  "language_info": {
   "name": "plaintext"
  }
 },
 "nbformat": 4,
 "nbformat_minor": 0
}
